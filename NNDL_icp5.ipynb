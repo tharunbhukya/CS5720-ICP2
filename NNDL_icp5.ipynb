{
  "nbformat": 4,
  "nbformat_minor": 0,
  "metadata": {
    "colab": {
      "provenance": []
    },
    "kernelspec": {
      "name": "python3",
      "display_name": "Python 3"
    },
    "language_info": {
      "name": "python"
    }
  },
  "cells": [
    {
      "cell_type": "code",
      "execution_count": 2,
      "metadata": {
        "id": "b8meo8Tb2Jk2"
      },
      "outputs": [],
      "source": [
        "#importing set of libraries\n",
        "import pandas as pd\n",
        "from sklearn.model_selection import train_test_split\n",
        "from sklearn.naive_bayes import GaussianNB\n",
        "from sklearn.metrics import classification_report, accuracy_score\n",
        "import warnings\n",
        "warnings.filterwarnings(\"ignore\")\n",
        "from sklearn import metrics"
      ]
    },
    {
      "cell_type": "code",
      "source": [
        "#importing the given dataset glass.csv\n",
        "dst_Data = pd.read_csv(\"glass.csv\")\n",
        "dst_Data.info()"
      ],
      "metadata": {
        "colab": {
          "base_uri": "https://localhost:8080/"
        },
        "id": "AjPLI-1k2Vc3",
        "outputId": "e78cbbb4-b592-4756-bd2e-90433572c487"
      },
      "execution_count": 3,
      "outputs": [
        {
          "output_type": "stream",
          "name": "stdout",
          "text": [
            "<class 'pandas.core.frame.DataFrame'>\n",
            "RangeIndex: 214 entries, 0 to 213\n",
            "Data columns (total 10 columns):\n",
            " #   Column  Non-Null Count  Dtype  \n",
            "---  ------  --------------  -----  \n",
            " 0   RI      214 non-null    float64\n",
            " 1   Na      214 non-null    float64\n",
            " 2   Mg      214 non-null    float64\n",
            " 3   Al      214 non-null    float64\n",
            " 4   Si      214 non-null    float64\n",
            " 5   K       214 non-null    float64\n",
            " 6   Ca      214 non-null    float64\n",
            " 7   Ba      214 non-null    float64\n",
            " 8   Fe      214 non-null    float64\n",
            " 9   Type    214 non-null    int64  \n",
            "dtypes: float64(9), int64(1)\n",
            "memory usage: 16.8 KB\n"
          ]
        }
      ]
    },
    {
      "cell_type": "code",
      "source": [
        "#splitting the dataset which is excluding last columns\n",
        "X = dst_Data.iloc[:, :-1]\n",
        "y = dst_Data.iloc[:, -1]\n",
        "#splitting the dataset into train and test datasets\n",
        "X_train, X_test, y_train, y_test = train_test_split(X, y, test_size=0.2, random_state=0)\n",
        "#creating a Gaussian Naive Bayes model\n",
        "gn = GaussianNB()\n",
        "#fitting train data\n",
        "gn.fit(X_train, y_train)\n",
        "# predicting the test dataset\n",
        "y_pred = gn.predict(X_test)\n",
        "# evaluating the model on the test dataset\n",
        "print(\"Accuracy: \", accuracy_score(y_test, y_pred)*100)\n",
        "print(\"Classification Report: \\n\", classification_report(y_test, y_pred))"
      ],
      "metadata": {
        "colab": {
          "base_uri": "https://localhost:8080/"
        },
        "id": "L1RHsyDc2baR",
        "outputId": "1a430364-55b5-42f4-f805-df43b47cde20"
      },
      "execution_count": 4,
      "outputs": [
        {
          "output_type": "stream",
          "name": "stdout",
          "text": [
            "Accuracy:  37.2093023255814\n",
            "Classification Report: \n",
            "               precision    recall  f1-score   support\n",
            "\n",
            "           1       0.19      0.44      0.27         9\n",
            "           2       0.33      0.16      0.21        19\n",
            "           3       0.33      0.20      0.25         5\n",
            "           5       0.00      0.00      0.00         2\n",
            "           6       0.67      1.00      0.80         2\n",
            "           7       1.00      1.00      1.00         6\n",
            "\n",
            "    accuracy                           0.37        43\n",
            "   macro avg       0.42      0.47      0.42        43\n",
            "weighted avg       0.40      0.37      0.36        43\n",
            "\n"
          ]
        }
      ]
    },
    {
      "cell_type": "markdown",
      "source": [
        "2) Implement linear SVM method using scikit library"
      ],
      "metadata": {
        "id": "5x1QLMut5kXa"
      }
    },
    {
      "cell_type": "code",
      "source": [
        "#importing set of libraries\n",
        "import pandas as pd\n",
        "from sklearn.model_selection import train_test_split\n",
        "from sklearn.svm import SVC\n",
        "from sklearn.metrics import classification_report, accuracy_score\n"
      ],
      "metadata": {
        "id": "8kv_L1Hz2gMc"
      },
      "execution_count": 5,
      "outputs": []
    },
    {
      "cell_type": "code",
      "source": [
        "#loading the glass dataset\n",
        "dst_Data = pd.read_csv(\"glass.csv\")\n",
        "dst_Data.info()"
      ],
      "metadata": {
        "colab": {
          "base_uri": "https://localhost:8080/"
        },
        "id": "ruGq33C52lQQ",
        "outputId": "cc69cb5c-34db-4171-a84b-a4bcba0d26f5"
      },
      "execution_count": 6,
      "outputs": [
        {
          "output_type": "stream",
          "name": "stdout",
          "text": [
            "<class 'pandas.core.frame.DataFrame'>\n",
            "RangeIndex: 214 entries, 0 to 213\n",
            "Data columns (total 10 columns):\n",
            " #   Column  Non-Null Count  Dtype  \n",
            "---  ------  --------------  -----  \n",
            " 0   RI      214 non-null    float64\n",
            " 1   Na      214 non-null    float64\n",
            " 2   Mg      214 non-null    float64\n",
            " 3   Al      214 non-null    float64\n",
            " 4   Si      214 non-null    float64\n",
            " 5   K       214 non-null    float64\n",
            " 6   Ca      214 non-null    float64\n",
            " 7   Ba      214 non-null    float64\n",
            " 8   Fe      214 non-null    float64\n",
            " 9   Type    214 non-null    int64  \n",
            "dtypes: float64(9), int64(1)\n",
            "memory usage: 16.8 KB\n"
          ]
        }
      ]
    },
    {
      "cell_type": "code",
      "source": [
        "#splitting the dataset into training and testing datasets\n",
        "X_train, X_test, y_train, y_test = train_test_split(X, y, test_size=0.2, random_state=0)\n",
        "#creating a linear SVM model\n",
        "svm = SVC(kernel='linear')\n",
        "#fitting the training dataset\n",
        "svm.fit(X_train, y_train)\n",
        "#predicting the target values using the test dataset\n",
        "y_pred = svm.predict(X_test)\n",
        "#evaluating the model on the test dataset\n",
        "print(\"Accuracy: \", accuracy_score(y_test, y_pred)*100)\n",
        "print(\"Classification Report: \\n\", classification_report(y_test, y_pred))"
      ],
      "metadata": {
        "colab": {
          "base_uri": "https://localhost:8080/"
        },
        "id": "Gk0VU7Bm2poq",
        "outputId": "b64f3483-57a3-4635-a526-cdd84ab15dab"
      },
      "execution_count": 7,
      "outputs": [
        {
          "output_type": "stream",
          "name": "stdout",
          "text": [
            "Accuracy:  51.162790697674424\n",
            "Classification Report: \n",
            "               precision    recall  f1-score   support\n",
            "\n",
            "           1       0.36      0.89      0.52         9\n",
            "           2       0.58      0.37      0.45        19\n",
            "           3       0.00      0.00      0.00         5\n",
            "           5       0.50      0.50      0.50         2\n",
            "           6       0.00      0.00      0.00         2\n",
            "           7       0.86      1.00      0.92         6\n",
            "\n",
            "    accuracy                           0.51        43\n",
            "   macro avg       0.38      0.46      0.40        43\n",
            "weighted avg       0.48      0.51      0.46        43\n",
            "\n"
          ]
        }
      ]
    },
    {
      "cell_type": "markdown",
      "source": [
        "\n",
        "SVM consists more accuracy than naive bayes.\n",
        "\n"
      ],
      "metadata": {
        "id": "GafaMIvhD_S2"
      }
    }
  ]
}